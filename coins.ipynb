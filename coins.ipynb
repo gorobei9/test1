{
 "cells": [
  {
   "cell_type": "markdown",
   "metadata": {},
   "source": [
    "Thinking like a software developer if you are an economist\n",
    "===\n",
    "\n",
    "Suppose I have a box of dice that contains a 4-sided die, a 6-sided die, an 8-sided die, a 12-sided die, and a 20-sided die, each of them with sides labeled from 1 on up sequentially. \n",
    "If you have ever played Dungeons & Dragons, you know what I am talking about. \n",
    "Suppose I select a die from the box at random, roll it, and truthfully report to you that I get a 6. \n",
    "What is the probability that I rolled each die?\n",
    "\n",
    "Notes:\n",
    "\n",
    "1. We want to solve this with Monte Carlo rather than just solving the math\n",
    "2. We'd like a reasonable general solution, but not a big mess of abstractions\n",
    "3. We'd like the code to be readable and ideally have the same shape as the problem space\n",
    "4. And we'll use Python classes because OO is so cool these days"
   ]
  },
  {
   "cell_type": "code",
   "execution_count": 125,
   "metadata": {
    "collapsed": false
   },
   "outputs": [],
   "source": [
    "import random\n",
    "import numpy as np"
   ]
  },
  {
   "cell_type": "markdown",
   "metadata": {},
   "source": [
    "The objects in our world (dice) have little more than:\n",
    "\n",
    "1. a name \n",
    "2. a way to roll themselves and return a result\n",
    "\n",
    "We define the interface: a way to make a die, a way to get its name, and a way to get the result of a roll: Die(sides), die.name, die.draw()\n",
    "Because we are software developers, we avoid adding arbitrary constraints, e.g.\n",
    "\n",
    "1. The results will be integers (maybe the next problem will use picture dice)\n",
    "2. The names will be strings (we don't care)\n",
    "3. We even know the set of possible results (maybe the next problem will have continuous valued results)"
   ]
  },
  {
   "cell_type": "code",
   "execution_count": 126,
   "metadata": {
    "collapsed": true
   },
   "outputs": [],
   "source": [
    "class Die(object):\n",
    "    def __init__(self, sides, name=None):\n",
    "        self.sides = sides\n",
    "        self.name = name if name is not None else sides\n",
    "    def draw(self):\n",
    "        return random.randint(1, self.sides)"
   ]
  },
  {
   "cell_type": "markdown",
   "metadata": {},
   "source": [
    "Sanity Tests.\n",
    "==\n",
    "\n",
    "We love quick tests, even 3 lines of code will be wrong.\n",
    "\n",
    "So, we:\n",
    "1. Check a six-sided die gives sane results over a few rolls\n",
    "2. Check our interface works for other simple objects (e.g. possibly biased coins,) if it's hard to write the coin class, we probably got the die class wrong..."
   ]
  },
  {
   "cell_type": "code",
   "execution_count": 127,
   "metadata": {
    "collapsed": false
   },
   "outputs": [
    {
     "name": "stdout",
     "output_type": "stream",
     "text": [
      "[4, 3, 2, 6, 4, 3, 6, 2, 6, 5]\n",
      "\n",
      "['Tails', 'Heads', 'Heads', 'Heads', 'Tails', 'Tails', 'Tails', 'Heads', 'Tails', 'Tails']\n",
      "['Tails', 'Tails', 'Tails', 'Tails', 'Tails', 'Tails', 'Tails', 'Tails', 'Tails', 'Tails']\n",
      "['Heads', 'Heads', 'Heads', 'Heads', 'Heads', 'Heads', 'Heads', 'Heads', 'Heads', 'Heads']\n",
      "['Heads', 'Heads', 'Heads', 'Heads', 'Tails', 'Tails', 'Heads', 'Tails', 'Heads', 'Heads']\n"
     ]
    }
   ],
   "source": [
    "d = Die(6)\n",
    "print( [ d.draw() for i in range(10)] )\n",
    "print()\n",
    "\n",
    "class Coin(object):\n",
    "    def __init__(self, bias=0):\n",
    "        self.bias = bias\n",
    "        if not bias:\n",
    "            self.name = 'FairCoin'\n",
    "        else:\n",
    "            self.name = 'Coin:%s' % bias\n",
    "    def draw(self):\n",
    "        h = random.uniform(-1, 1) < self.bias\n",
    "        return 'Heads' if h else 'Tails'\n",
    "    \n",
    "print([Coin().draw() for i in range(10)])\n",
    "print([Coin(bias=-1).draw() for i in range(10)])\n",
    "print([Coin(bias=1).draw() for i in range(10)])\n",
    "print([Coin(bias=.75).draw() for i in range(10)])"
   ]
  },
  {
   "cell_type": "markdown",
   "metadata": {},
   "source": [
    "Trial is a class that handles making repeated draws and aggregating the results of those draws.\n",
    "==\n",
    "\n",
    "Note that:\n",
    "1. It doesn't mention dice in its code: it just picks a source and assumes the source has a name and a method called draw().\n",
    "2. It an abstract class: it doesn't even know how to pick a source.\n",
    "3. When it prints a table summary, it converts its dictionary of dictionaries into a numpy array of counts via the utility method dictsToTbl(). dictsToTbl deserves to be a library function because it's\n",
    "doing a generic, but non-trivial, thing that is not specific to our problem space.\n",
    "4. Once we have our numpy array of counts, we can use numpy to easily convert to frequencies, scale to percentages, etc."
   ]
  },
  {
   "cell_type": "code",
   "execution_count": 128,
   "metadata": {
    "collapsed": true
   },
   "outputs": [],
   "source": [
    "class Trial(object):\n",
    "    def __init__(self):\n",
    "        self.results = {} # { Result: { Source: count }}\n",
    "        \n",
    "    def _add(self, name, result):\n",
    "        results = self.results\n",
    "        if result not in results:\n",
    "            results[result] = {}\n",
    "        results[result][name] = results[result].get(name, 0) + 1\n",
    "        \n",
    "    def run(self, nDraws=1000000):\n",
    "        for i in range(nDraws):\n",
    "            src = self.chooseSource()\n",
    "            self._add(src.name, src.draw())\n",
    "            \n",
    "    def printSummary(self):\n",
    "        values, rows, cols = dictsToTbl(self.results)\n",
    "        # It is left as an exercise to the reader to use their favorite pretty printing module to\n",
    "        # draw a table with nice row and column headers...\n",
    "        print('Cols are:', cols)\n",
    "        print('Rows are:', rows)\n",
    "        print((norm(values) * 10000).astype(int) / 100.)\n",
    "        \n",
    "def dictsToTbl(dd):\n",
    "    rowNames = sorted(dd.keys())\n",
    "    colNames = set()\n",
    "    for r in dd.values():\n",
    "        colNames.update(r.keys())\n",
    "    colNames = sorted(colNames)\n",
    "    ret = np.zeros((len(rowNames), len(colNames)))\n",
    "    for rn, row in dd.items():\n",
    "        ri = rowNames.index(rn)\n",
    "        for cn, v in row.items():\n",
    "            ci = colNames.index(cn)\n",
    "            ret[ri,ci] = v\n",
    "    return ret, rowNames, colNames\n",
    "            \n",
    "def norm(ar):\n",
    "    return ar / np.sum(ar, axis=1, keepdims=True)\n"
   ]
  },
  {
   "cell_type": "markdown",
   "metadata": {},
   "source": [
    "A UniformSelectionTrial is just a Trial that samples with replacement from a collection of source items.\n",
    "==\n",
    "\n",
    "Again, it doesn't know anything about dice.\n",
    "\n",
    "So, we just give it the dice, run the trial, and print the results..."
   ]
  },
  {
   "cell_type": "code",
   "execution_count": 129,
   "metadata": {
    "collapsed": false
   },
   "outputs": [
    {
     "name": "stdout",
     "output_type": "stream",
     "text": [
      "Cols are: [4, 6, 8, 12, 20]\n",
      "Rows are: [1, 2, 3, 4, 5, 6, 7, 8, 9, 10, 11, 12, 13, 14, 15, 16, 17, 18, 19, 20]\n",
      "[[  37.17   24.47   18.63   12.33    7.37]\n",
      " [  36.92   24.73   18.54   12.26    7.54]\n",
      " [  37.25   24.57   18.44   12.31    7.41]\n",
      " [  37.15   24.74   18.35   12.36    7.37]\n",
      " [   0.     39.11   29.45   19.54   11.88]\n",
      " [   0.     39.24   29.48   19.53   11.73]\n",
      " [   0.      0.     48.37   32.13   19.48]\n",
      " [   0.      0.     48.26   32.27   19.46]\n",
      " [   0.      0.      0.     62.91   37.08]\n",
      " [   0.      0.      0.     62.46   37.53]\n",
      " [   0.      0.      0.     62.09   37.9 ]\n",
      " [   0.      0.      0.     62.12   37.87]\n",
      " [   0.      0.      0.      0.    100.  ]\n",
      " [   0.      0.      0.      0.    100.  ]\n",
      " [   0.      0.      0.      0.    100.  ]\n",
      " [   0.      0.      0.      0.    100.  ]\n",
      " [   0.      0.      0.      0.    100.  ]\n",
      " [   0.      0.      0.      0.    100.  ]\n",
      " [   0.      0.      0.      0.    100.  ]\n",
      " [   0.      0.      0.      0.    100.  ]]\n"
     ]
    }
   ],
   "source": [
    "class UniformSelectionTrial(Trial):\n",
    "    def __init__(self, sources):\n",
    "        super(UniformSelectionTrial, self).__init__()\n",
    "        self.sources = sources\n",
    "        \n",
    "    def chooseSource(self):\n",
    "        return random.choice(self.sources)\n",
    "\n",
    "dice = [ Die(n) for n in [ 4, 6, 8, 12, 20 ] ]\n",
    "t = UniformSelectionTrial(dice)\n",
    "t.run()\n",
    "\n",
    "t.printSummary()"
   ]
  },
  {
   "cell_type": "markdown",
   "metadata": {},
   "source": [
    "Sanity Check\n",
    "==\n",
    "\n",
    "We have a jar with 1000 coins. One is double headed. We pick a coin at random, flip it 10 times. If it came up heads 10 times, what's the chance we picked the two-headed coin?"
   ]
  },
  {
   "cell_type": "code",
   "execution_count": 130,
   "metadata": {
    "collapsed": false
   },
   "outputs": [
    {
     "name": "stdout",
     "output_type": "stream",
     "text": [
      "Cols are: ['Coin:1', 'FairCoin']\n",
      "Rows are: [0, 1, 2, 3, 4, 5, 6, 7, 8, 9, 10]\n",
      "[[   0.    100.  ]\n",
      " [   0.    100.  ]\n",
      " [   0.    100.  ]\n",
      " [   0.    100.  ]\n",
      " [   0.    100.  ]\n",
      " [   0.    100.  ]\n",
      " [   0.    100.  ]\n",
      " [   0.    100.  ]\n",
      " [   0.    100.  ]\n",
      " [   0.    100.  ]\n",
      " [  51.44   48.55]]\n"
     ]
    }
   ],
   "source": [
    "class Counter(object):\n",
    "    def __init__(self, source, value, nDraws):\n",
    "        self.source = source\n",
    "        self.value = value\n",
    "        self.nDraws = nDraws\n",
    "        self.name = self.source.name\n",
    "    def draw(self):\n",
    "        total = 0\n",
    "        for i in range(self.nDraws):\n",
    "            if self.source.draw() == self.value:\n",
    "                total += 1\n",
    "        return total\n",
    "    \n",
    "coins = [ Coin(bias=1) ] + [ Coin() for i in range(999) ]\n",
    "counters = [ Counter(coin, 'Heads', 10 ) for coin in coins ]\n",
    "t = UniformSelectionTrial(counters)\n",
    "t.run()\n",
    "t.printSummary()"
   ]
  }
 ],
 "metadata": {
  "kernelspec": {
   "display_name": "Python 3",
   "language": "python",
   "name": "python3"
  },
  "language_info": {
   "codemirror_mode": {
    "name": "ipython",
    "version": 3
   },
   "file_extension": ".py",
   "mimetype": "text/x-python",
   "name": "python",
   "nbconvert_exporter": "python",
   "pygments_lexer": "ipython3",
   "version": "3.6.1"
  }
 },
 "nbformat": 4,
 "nbformat_minor": 2
}
